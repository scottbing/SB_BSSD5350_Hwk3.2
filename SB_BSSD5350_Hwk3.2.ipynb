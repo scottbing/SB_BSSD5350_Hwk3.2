{
 "cells": [
  {
   "cell_type": "code",
   "execution_count": 1,
   "id": "balanced-yesterday",
   "metadata": {},
   "outputs": [],
   "source": [
    "#@title Licensed under the Apache License, Version 2.0 (the \"License\");\n",
    "# you may not use this file except in compliance with the License.\n",
    "# You may obtain a copy of the License at\n",
    "#\n",
    "# https://www.apache.org/licenses/LICENSE-2.0\n",
    "#\n",
    "# Unless required by applicable law or agreed to in writing, software\n",
    "# distributed under the License is distributed on an \"AS IS\" BASIS,\n",
    "# WITHOUT WARRANTIES OR CONDITIONS OF ANY KIND, either express or implied.\n",
    "# See the License for the specific language governing permissions and\n",
    "# limitations under the License."
   ]
  },
  {
   "cell_type": "code",
   "execution_count": 2,
   "id": "friendly-values",
   "metadata": {},
   "outputs": [],
   "source": [
    "#\n",
    "# Copyright (c) 2017 François Chollet\n",
    "#\n",
    "# Permission is hereby granted, free of charge, to any person obtaining a\n",
    "# copy of this software and associated documentation files (the \"Software\"),\n",
    "# to deal in the Software without restriction, including without limitation\n",
    "# the rights to use, copy, modify, merge, publish, distribute, sublicense,\n",
    "# and/or sell copies of the Software, and to permit persons to whom the\n",
    "# Software is furnished to do so, subject to the following conditions:\n",
    "#\n",
    "# The above copyright notice and this permission notice shall be included in\n",
    "# all copies or substantial portions of the Software.\n",
    "#\n",
    "# THE SOFTWARE IS PROVIDED \"AS IS\", WITHOUT WARRANTY OF ANY KIND, EXPRESS OR\n",
    "# IMPLIED, INCLUDING BUT NOT LIMITED TO THE WARRANTIES OF MERCHANTABILITY,\n",
    "# FITNESS FOR A PARTICULAR PURPOSE AND NONINFRINGEMENT. IN NO EVENT SHALL\n",
    "# THE AUTHORS OR COPYRIGHT HOLDERS BE LIABLE FOR ANY CLAIM, DAMAGES OR OTHER\n",
    "# LIABILITY, WHETHER IN AN ACTION OF CONTRACT, TORT OR OTHERWISE, ARISING\n",
    "# FROM, OUT OF OR IN CONNECTION WITH THE SOFTWARE OR THE USE OR OTHER\n",
    "# DEALINGS IN THE SOFTWARE."
   ]
  },
  {
   "cell_type": "code",
   "execution_count": 3,
   "id": "naked-array",
   "metadata": {},
   "outputs": [
    {
     "name": "stdout",
     "output_type": "stream",
     "text": [
      "2.3.0\n"
     ]
    }
   ],
   "source": [
    "import tensorflow as tf\n",
    "\n",
    "# Helper libraries\n",
    "import numpy as np\n",
    "import matplotlib.pyplot as plt\n",
    "\n",
    "print(tf.__version__)"
   ]
  },
  {
   "cell_type": "code",
   "execution_count": 4,
   "id": "cooperative-argentina",
   "metadata": {},
   "outputs": [],
   "source": [
    "fashion_mnist = tf.keras.datasets.fashion_mnist\n",
    "\n",
    "(train_images, train_labels), (test_images, test_labels) = fashion_mnist.load_data()"
   ]
  },
  {
   "cell_type": "code",
   "execution_count": 5,
   "id": "interracial-champion",
   "metadata": {},
   "outputs": [],
   "source": [
    "train_images = train_images / 255.0\n",
    "\n",
    "test_images = test_images / 255.0"
   ]
  },
  {
   "cell_type": "markdown",
   "id": "worst-divide",
   "metadata": {},
   "source": [
    "## Model #1:  Original Model -  1. adam, dense128, dense10"
   ]
  },
  {
   "cell_type": "code",
   "execution_count": 6,
   "id": "rubber-honor",
   "metadata": {},
   "outputs": [],
   "source": [
    "model = tf.keras.Sequential([\n",
    "    tf.keras.layers.Flatten(input_shape=(28, 28)),\n",
    "    tf.keras.layers.Dense(128, activation='relu'),\n",
    "    tf.keras.layers.Dense(10)\n",
    "])"
   ]
  },
  {
   "cell_type": "code",
   "execution_count": 7,
   "id": "confident-brown",
   "metadata": {},
   "outputs": [],
   "source": [
    "model.compile(optimizer='adam',\n",
    "              loss=tf.keras.losses.SparseCategoricalCrossentropy(from_logits=True),\n",
    "              metrics=['accuracy'])"
   ]
  },
  {
   "cell_type": "code",
   "execution_count": 8,
   "id": "compliant-conducting",
   "metadata": {},
   "outputs": [
    {
     "name": "stdout",
     "output_type": "stream",
     "text": [
      "Epoch 1/10\n",
      "1875/1875 [==============================] - 1s 601us/step - loss: 0.4946 - accuracy: 0.8274\n",
      "Epoch 2/10\n",
      "1875/1875 [==============================] - 1s 584us/step - loss: 0.3749 - accuracy: 0.8651\n",
      "Epoch 3/10\n",
      "1875/1875 [==============================] - 1s 582us/step - loss: 0.3345 - accuracy: 0.8781\n",
      "Epoch 4/10\n",
      "1875/1875 [==============================] - 1s 588us/step - loss: 0.3101 - accuracy: 0.8861\n",
      "Epoch 5/10\n",
      "1875/1875 [==============================] - 1s 583us/step - loss: 0.2927 - accuracy: 0.8923\n",
      "Epoch 6/10\n",
      "1875/1875 [==============================] - 1s 579us/step - loss: 0.2796 - accuracy: 0.8967\n",
      "Epoch 7/10\n",
      "1875/1875 [==============================] - 1s 581us/step - loss: 0.2676 - accuracy: 0.9013\n",
      "Epoch 8/10\n",
      "1875/1875 [==============================] - 1s 588us/step - loss: 0.2561 - accuracy: 0.9039\n",
      "Epoch 9/10\n",
      "1875/1875 [==============================] - 1s 580us/step - loss: 0.2450 - accuracy: 0.9078\n",
      "Epoch 10/10\n",
      "1875/1875 [==============================] - 1s 589us/step - loss: 0.2385 - accuracy: 0.9108\n"
     ]
    },
    {
     "data": {
      "text/plain": [
       "<tensorflow.python.keras.callbacks.History at 0x1bff553fa48>"
      ]
     },
     "execution_count": 8,
     "metadata": {},
     "output_type": "execute_result"
    }
   ],
   "source": [
    "model.fit(train_images, train_labels, epochs=10)"
   ]
  },
  {
   "cell_type": "code",
   "execution_count": 9,
   "id": "appointed-rouge",
   "metadata": {},
   "outputs": [
    {
     "name": "stdout",
     "output_type": "stream",
     "text": [
      "313/313 - 0s - loss: 0.3377 - accuracy: 0.8817\n",
      "\n",
      "Test accuracy: 0.8816999793052673\n"
     ]
    }
   ],
   "source": [
    "test_loss, test_acc = model.evaluate(test_images,  test_labels, verbose=2)\n",
    "\n",
    "print('\\nTest accuracy:', test_acc)"
   ]
  },
  {
   "cell_type": "markdown",
   "id": "yellow-liberty",
   "metadata": {},
   "source": [
    "## Model #2 -  2. adam, dense10, dropout(.2), dense10"
   ]
  },
  {
   "cell_type": "code",
   "execution_count": 10,
   "id": "strange-inquiry",
   "metadata": {},
   "outputs": [],
   "source": [
    "model = tf.keras.Sequential([\n",
    "    tf.keras.layers.Flatten(input_shape=(28, 28)),\n",
    "    tf.keras.layers.Dense(10, activation='relu'),\n",
    "    tf.keras.layers.Dropout(0.2),\n",
    "    tf.keras.layers.Dense(10)\n",
    "])"
   ]
  },
  {
   "cell_type": "code",
   "execution_count": 11,
   "id": "south-venture",
   "metadata": {},
   "outputs": [],
   "source": [
    "model.compile(optimizer='adam',\n",
    "              loss=tf.keras.losses.SparseCategoricalCrossentropy(from_logits=True),\n",
    "              metrics=['accuracy'])"
   ]
  },
  {
   "cell_type": "code",
   "execution_count": 12,
   "id": "deadly-embassy",
   "metadata": {},
   "outputs": [
    {
     "name": "stdout",
     "output_type": "stream",
     "text": [
      "Epoch 1/10\n",
      "1875/1875 [==============================] - 1s 515us/step - loss: 1.2761 - accuracy: 0.5317\n",
      "Epoch 2/10\n",
      "1875/1875 [==============================] - 1s 493us/step - loss: 0.9408 - accuracy: 0.6281\n",
      "Epoch 3/10\n",
      "1875/1875 [==============================] - 1s 514us/step - loss: 0.9023 - accuracy: 0.6473\n",
      "Epoch 4/10\n",
      "1875/1875 [==============================] - 1s 526us/step - loss: 0.8829 - accuracy: 0.6608\n",
      "Epoch 5/10\n",
      "1875/1875 [==============================] - 1s 512us/step - loss: 0.8593 - accuracy: 0.6709\n",
      "Epoch 6/10\n",
      "1875/1875 [==============================] - 1s 497us/step - loss: 0.8553 - accuracy: 0.6709\n",
      "Epoch 7/10\n",
      "1875/1875 [==============================] - 1s 479us/step - loss: 0.8391 - accuracy: 0.6819\n",
      "Epoch 8/10\n",
      "1875/1875 [==============================] - 1s 480us/step - loss: 0.8166 - accuracy: 0.6942\n",
      "Epoch 9/10\n",
      "1875/1875 [==============================] - 1s 481us/step - loss: 0.8098 - accuracy: 0.6976\n",
      "Epoch 10/10\n",
      "1875/1875 [==============================] - 1s 482us/step - loss: 0.7949 - accuracy: 0.7081\n"
     ]
    },
    {
     "data": {
      "text/plain": [
       "<tensorflow.python.keras.callbacks.History at 0x1bff78ba208>"
      ]
     },
     "execution_count": 12,
     "metadata": {},
     "output_type": "execute_result"
    }
   ],
   "source": [
    "model.fit(train_images, train_labels, epochs=10)"
   ]
  },
  {
   "cell_type": "code",
   "execution_count": 13,
   "id": "patient-asbestos",
   "metadata": {},
   "outputs": [
    {
     "name": "stdout",
     "output_type": "stream",
     "text": [
      "313/313 - 0s - loss: 0.5774 - accuracy: 0.8150\n",
      "\n",
      "Test accuracy: 0.8149999976158142\n"
     ]
    }
   ],
   "source": [
    "test_loss, test_acc = model.evaluate(test_images,  test_labels, verbose=2)\n",
    "\n",
    "print('\\nTest accuracy:', test_acc)"
   ]
  },
  {
   "cell_type": "markdown",
   "id": "municipal-democrat",
   "metadata": {},
   "source": [
    "## Model #3: Model #1 performed better:  1. adagrad"
   ]
  },
  {
   "cell_type": "code",
   "execution_count": 14,
   "id": "rough-flesh",
   "metadata": {},
   "outputs": [],
   "source": [
    "model = tf.keras.Sequential([\n",
    "    tf.keras.layers.Flatten(input_shape=(28, 28)),\n",
    "    tf.keras.layers.Dense(128, activation='relu'),\n",
    "    tf.keras.layers.Dense(10)\n",
    "])"
   ]
  },
  {
   "cell_type": "code",
   "execution_count": 15,
   "id": "cognitive-stage",
   "metadata": {},
   "outputs": [],
   "source": [
    "model.compile(optimizer='adagrad',\n",
    "              loss=tf.keras.losses.SparseCategoricalCrossentropy(from_logits=True),\n",
    "              metrics=['accuracy'])"
   ]
  },
  {
   "cell_type": "code",
   "execution_count": 16,
   "id": "commercial-setting",
   "metadata": {},
   "outputs": [
    {
     "name": "stdout",
     "output_type": "stream",
     "text": [
      "Epoch 1/10\n",
      "1875/1875 [==============================] - 1s 587us/step - loss: 1.0838 - accuracy: 0.6736\n",
      "Epoch 2/10\n",
      "1875/1875 [==============================] - 1s 583us/step - loss: 0.7178 - accuracy: 0.7712\n",
      "Epoch 3/10\n",
      "1875/1875 [==============================] - 1s 587us/step - loss: 0.6429 - accuracy: 0.7929\n",
      "Epoch 4/10\n",
      "1875/1875 [==============================] - 1s 586us/step - loss: 0.6031 - accuracy: 0.8043\n",
      "Epoch 5/10\n",
      "1875/1875 [==============================] - 1s 591us/step - loss: 0.5772 - accuracy: 0.8117\n",
      "Epoch 6/10\n",
      "1875/1875 [==============================] - 1s 595us/step - loss: 0.5583 - accuracy: 0.8167\n",
      "Epoch 7/10\n",
      "1875/1875 [==============================] - 1s 604us/step - loss: 0.5437 - accuracy: 0.8209\n",
      "Epoch 8/10\n",
      "1875/1875 [==============================] - 1s 597us/step - loss: 0.5321 - accuracy: 0.8249\n",
      "Epoch 9/10\n",
      "1875/1875 [==============================] - 1s 599us/step - loss: 0.5222 - accuracy: 0.8267\n",
      "Epoch 10/10\n",
      "1875/1875 [==============================] - 1s 594us/step - loss: 0.5139 - accuracy: 0.8293\n"
     ]
    },
    {
     "data": {
      "text/plain": [
       "<tensorflow.python.keras.callbacks.History at 0x1bff7ce5388>"
      ]
     },
     "execution_count": 16,
     "metadata": {},
     "output_type": "execute_result"
    }
   ],
   "source": [
    "model.fit(train_images, train_labels, epochs=10)"
   ]
  },
  {
   "cell_type": "code",
   "execution_count": 17,
   "id": "directed-cabin",
   "metadata": {},
   "outputs": [
    {
     "name": "stdout",
     "output_type": "stream",
     "text": [
      "313/313 - 0s - loss: 0.5354 - accuracy: 0.8204\n",
      "\n",
      "Test accuracy: 0.8203999996185303\n"
     ]
    }
   ],
   "source": [
    "test_loss, test_acc = model.evaluate(test_images,  test_labels, verbose=2)\n",
    "\n",
    "print('\\nTest accuracy:', test_acc)"
   ]
  },
  {
   "cell_type": "markdown",
   "id": "welcome-beatles",
   "metadata": {},
   "source": [
    "## Model #4: Model #1 performed better:  2. sgd"
   ]
  },
  {
   "cell_type": "code",
   "execution_count": 18,
   "id": "promising-salvation",
   "metadata": {},
   "outputs": [],
   "source": [
    "model = tf.keras.Sequential([\n",
    "    tf.keras.layers.Flatten(input_shape=(28, 28)),\n",
    "    tf.keras.layers.Dense(128, activation='relu'),\n",
    "    tf.keras.layers.Dense(10)\n",
    "])"
   ]
  },
  {
   "cell_type": "code",
   "execution_count": 19,
   "id": "consolidated-roman",
   "metadata": {},
   "outputs": [],
   "source": [
    "model.compile(optimizer='sgd',\n",
    "              loss=tf.keras.losses.SparseCategoricalCrossentropy(from_logits=True),\n",
    "              metrics=['accuracy'])"
   ]
  },
  {
   "cell_type": "code",
   "execution_count": 20,
   "id": "destroyed-polymer",
   "metadata": {},
   "outputs": [
    {
     "name": "stdout",
     "output_type": "stream",
     "text": [
      "Epoch 1/10\n",
      "1875/1875 [==============================] - 1s 549us/step - loss: 0.7405 - accuracy: 0.7625\n",
      "Epoch 2/10\n",
      "1875/1875 [==============================] - 1s 551us/step - loss: 0.5105 - accuracy: 0.8270\n",
      "Epoch 3/10\n",
      "1875/1875 [==============================] - 1s 550us/step - loss: 0.4671 - accuracy: 0.8401\n",
      "Epoch 4/10\n",
      "1875/1875 [==============================] - 1s 548us/step - loss: 0.4427 - accuracy: 0.8466\n",
      "Epoch 5/10\n",
      "1875/1875 [==============================] - 1s 548us/step - loss: 0.4244 - accuracy: 0.8524\n",
      "Epoch 6/10\n",
      "1875/1875 [==============================] - 1s 555us/step - loss: 0.4099 - accuracy: 0.8587\n",
      "Epoch 7/10\n",
      "1875/1875 [==============================] - 1s 555us/step - loss: 0.3983 - accuracy: 0.8620\n",
      "Epoch 8/10\n",
      "1875/1875 [==============================] - 1s 548us/step - loss: 0.3872 - accuracy: 0.8655\n",
      "Epoch 9/10\n",
      "1875/1875 [==============================] - 1s 546us/step - loss: 0.3786 - accuracy: 0.8686\n",
      "Epoch 10/10\n",
      "1875/1875 [==============================] - 1s 555us/step - loss: 0.3709 - accuracy: 0.8715\n"
     ]
    },
    {
     "data": {
      "text/plain": [
       "<tensorflow.python.keras.callbacks.History at 0x1bff8089fc8>"
      ]
     },
     "execution_count": 20,
     "metadata": {},
     "output_type": "execute_result"
    }
   ],
   "source": [
    "model.fit(train_images, train_labels, epochs=10)"
   ]
  },
  {
   "cell_type": "code",
   "execution_count": 21,
   "id": "passing-apple",
   "metadata": {},
   "outputs": [
    {
     "name": "stdout",
     "output_type": "stream",
     "text": [
      "313/313 - 0s - loss: 0.4235 - accuracy: 0.8489\n",
      "\n",
      "Test accuracy: 0.8489000201225281\n"
     ]
    }
   ],
   "source": [
    "test_loss, test_acc = model.evaluate(test_images,  test_labels, verbose=2)\n",
    "\n",
    "print('\\nTest accuracy:', test_acc)"
   ]
  },
  {
   "cell_type": "markdown",
   "id": "choice-liverpool",
   "metadata": {},
   "source": [
    "### Results\n",
    "\n",
    "<p>Model #1<br>\n",
    "options: relu, adam<br> \n",
    "train time: 1 second<br> \n",
    "train acc: 0.9096<br>\n",
    "test acc 0.8837<br>\n",
    "time: 1s<br>\n",
    "dense128, dense10 - same as original<br>\n",
    "\n",
    "Model #2<br>\n",
    "options: relu, adam<br> \n",
    "train time: 1 second<br> \n",
    "train acc: 0.7399<br>\n",
    "test acc 0.8255<br>\n",
    "time: 1s<br>\n",
    "dense10, dropout(.2), dense10<br>\n",
    "\n",
    "Model #3<br>\n",
    "options: relu, adagrad<br> \n",
    "train time: 1 second<br> \n",
    "train acc: 0.8282<br>\n",
    "test acc 0.8179<br>\n",
    "time: 1s<br>\n",
    "dense128, dense10 - same as Model #1<br>\n",
    "\n",
    "Model #4<br>\n",
    "options: relu, sdg<br> \n",
    "train time: 1 second<br> \n",
    "train acc: 0.8677<br>\n",
    "test acc 0.8545<br>\n",
    "time: 1s<br>\n",
    "dense128, dense10 - same as Model #1<br>"
   ]
  }
 ],
 "metadata": {
  "kernelspec": {
   "display_name": "Python 3",
   "language": "python",
   "name": "python3"
  },
  "language_info": {
   "codemirror_mode": {
    "name": "ipython",
    "version": 3
   },
   "file_extension": ".py",
   "mimetype": "text/x-python",
   "name": "python",
   "nbconvert_exporter": "python",
   "pygments_lexer": "ipython3",
   "version": "3.7.9"
  }
 },
 "nbformat": 4,
 "nbformat_minor": 5
}
