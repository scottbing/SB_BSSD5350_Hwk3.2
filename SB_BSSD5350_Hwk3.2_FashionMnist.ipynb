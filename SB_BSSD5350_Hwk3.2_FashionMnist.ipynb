{
 "cells": [
  {
   "cell_type": "code",
   "execution_count": 1,
   "id": "japanese-lithuania",
   "metadata": {},
   "outputs": [],
   "source": [
    "#@title Licensed under the Apache License, Version 2.0 (the \"License\");\n",
    "# you may not use this file except in compliance with the License.\n",
    "# You may obtain a copy of the License at\n",
    "#\n",
    "# https://www.apache.org/licenses/LICENSE-2.0\n",
    "#\n",
    "# Unless required by applicable law or agreed to in writing, software\n",
    "# distributed under the License is distributed on an \"AS IS\" BASIS,\n",
    "# WITHOUT WARRANTIES OR CONDITIONS OF ANY KIND, either express or implied.\n",
    "# See the License for the specific language governing permissions and\n",
    "# limitations under the License."
   ]
  },
  {
   "cell_type": "code",
   "execution_count": 2,
   "id": "golden-postcard",
   "metadata": {},
   "outputs": [],
   "source": [
    "#\n",
    "# Copyright (c) 2017 François Chollet\n",
    "#\n",
    "# Permission is hereby granted, free of charge, to any person obtaining a\n",
    "# copy of this software and associated documentation files (the \"Software\"),\n",
    "# to deal in the Software without restriction, including without limitation\n",
    "# the rights to use, copy, modify, merge, publish, distribute, sublicense,\n",
    "# and/or sell copies of the Software, and to permit persons to whom the\n",
    "# Software is furnished to do so, subject to the following conditions:\n",
    "#\n",
    "# The above copyright notice and this permission notice shall be included in\n",
    "# all copies or substantial portions of the Software.\n",
    "#\n",
    "# THE SOFTWARE IS PROVIDED \"AS IS\", WITHOUT WARRANTY OF ANY KIND, EXPRESS OR\n",
    "# IMPLIED, INCLUDING BUT NOT LIMITED TO THE WARRANTIES OF MERCHANTABILITY,\n",
    "# FITNESS FOR A PARTICULAR PURPOSE AND NONINFRINGEMENT. IN NO EVENT SHALL\n",
    "# THE AUTHORS OR COPYRIGHT HOLDERS BE LIABLE FOR ANY CLAIM, DAMAGES OR OTHER\n",
    "# LIABILITY, WHETHER IN AN ACTION OF CONTRACT, TORT OR OTHERWISE, ARISING\n",
    "# FROM, OUT OF OR IN CONNECTION WITH THE SOFTWARE OR THE USE OR OTHER\n",
    "# DEALINGS IN THE SOFTWARE."
   ]
  },
  {
   "cell_type": "code",
   "execution_count": 3,
   "id": "solid-presentation",
   "metadata": {},
   "outputs": [
    {
     "name": "stdout",
     "output_type": "stream",
     "text": [
      "2.3.0\n"
     ]
    }
   ],
   "source": [
    "import tensorflow as tf\n",
    "\n",
    "# Helper libraries\n",
    "import numpy as np\n",
    "import matplotlib.pyplot as plt\n",
    "\n",
    "print(tf.__version__)"
   ]
  },
  {
   "cell_type": "code",
   "execution_count": 4,
   "id": "hispanic-stuff",
   "metadata": {},
   "outputs": [],
   "source": [
    "fashion_mnist = tf.keras.datasets.fashion_mnist\n",
    "\n",
    "(train_images, train_labels), (test_images, test_labels) = fashion_mnist.load_data()"
   ]
  },
  {
   "cell_type": "code",
   "execution_count": 5,
   "id": "acknowledged-connectivity",
   "metadata": {},
   "outputs": [],
   "source": [
    "train_images = train_images / 255.0\n",
    "\n",
    "test_images = test_images / 255.0"
   ]
  },
  {
   "cell_type": "markdown",
   "id": "rotary-accountability",
   "metadata": {},
   "source": [
    "## Model #1:  Original Model -  1. adam, dense128, dense10"
   ]
  },
  {
   "cell_type": "code",
   "execution_count": 6,
   "id": "impossible-chambers",
   "metadata": {},
   "outputs": [],
   "source": [
    "model = tf.keras.Sequential([\n",
    "    tf.keras.layers.Flatten(input_shape=(28, 28)),\n",
    "    tf.keras.layers.Dense(128, activation='relu'),\n",
    "    tf.keras.layers.Dense(10)\n",
    "])"
   ]
  },
  {
   "cell_type": "code",
   "execution_count": 7,
   "id": "talented-sense",
   "metadata": {},
   "outputs": [],
   "source": [
    "model.compile(optimizer='adam',\n",
    "              loss=tf.keras.losses.SparseCategoricalCrossentropy(from_logits=True),\n",
    "              metrics=['accuracy'])"
   ]
  },
  {
   "cell_type": "code",
   "execution_count": 8,
   "id": "amber-governor",
   "metadata": {},
   "outputs": [
    {
     "name": "stdout",
     "output_type": "stream",
     "text": [
      "Epoch 1/10\n",
      "1875/1875 [==============================] - 1s 581us/step - loss: 0.4910 - accuracy: 0.8266\n",
      "Epoch 2/10\n",
      "1875/1875 [==============================] - 1s 613us/step - loss: 0.3698 - accuracy: 0.8672\n",
      "Epoch 3/10\n",
      "1875/1875 [==============================] - 1s 593us/step - loss: 0.3365 - accuracy: 0.8771\n",
      "Epoch 4/10\n",
      "1875/1875 [==============================] - 1s 582us/step - loss: 0.3097 - accuracy: 0.8865\n",
      "Epoch 5/10\n",
      "1875/1875 [==============================] - 1s 577us/step - loss: 0.2947 - accuracy: 0.8909\n",
      "Epoch 6/10\n",
      "1875/1875 [==============================] - 1s 580us/step - loss: 0.2776 - accuracy: 0.8986\n",
      "Epoch 7/10\n",
      "1875/1875 [==============================] - 1s 587us/step - loss: 0.2668 - accuracy: 0.8998\n",
      "Epoch 8/10\n",
      "1875/1875 [==============================] - 1s 643us/step - loss: 0.2563 - accuracy: 0.9049\n",
      "Epoch 9/10\n",
      "1875/1875 [==============================] - 1s 613us/step - loss: 0.2481 - accuracy: 0.9074\n",
      "Epoch 10/10\n",
      "1875/1875 [==============================] - 1s 649us/step - loss: 0.2390 - accuracy: 0.9096\n"
     ]
    },
    {
     "data": {
      "text/plain": [
       "<tensorflow.python.keras.callbacks.History at 0x1c9436b2cc8>"
      ]
     },
     "execution_count": 8,
     "metadata": {},
     "output_type": "execute_result"
    }
   ],
   "source": [
    "model.fit(train_images, train_labels, epochs=10)"
   ]
  },
  {
   "cell_type": "code",
   "execution_count": 9,
   "id": "severe-subject",
   "metadata": {},
   "outputs": [
    {
     "name": "stdout",
     "output_type": "stream",
     "text": [
      "313/313 - 0s - loss: 0.3445 - accuracy: 0.8837\n",
      "\n",
      "Test accuracy: 0.8837000131607056\n"
     ]
    }
   ],
   "source": [
    "test_loss, test_acc = model.evaluate(test_images,  test_labels, verbose=2)\n",
    "\n",
    "print('\\nTest accuracy:', test_acc)"
   ]
  },
  {
   "cell_type": "markdown",
   "id": "single-alaska",
   "metadata": {},
   "source": [
    "## Model #2 -  2. adam, dense10, dropout(.2), dense10"
   ]
  },
  {
   "cell_type": "code",
   "execution_count": 10,
   "id": "likely-semester",
   "metadata": {},
   "outputs": [],
   "source": [
    "model = tf.keras.Sequential([\n",
    "    tf.keras.layers.Flatten(input_shape=(28, 28)),\n",
    "    tf.keras.layers.Dense(10, activation='relu'),\n",
    "    tf.keras.layers.Dropout(0.2),\n",
    "    tf.keras.layers.Dense(10)\n",
    "])"
   ]
  },
  {
   "cell_type": "code",
   "execution_count": 11,
   "id": "derived-environment",
   "metadata": {},
   "outputs": [],
   "source": [
    "model.compile(optimizer='adam',\n",
    "              loss=tf.keras.losses.SparseCategoricalCrossentropy(from_logits=True),\n",
    "              metrics=['accuracy'])"
   ]
  },
  {
   "cell_type": "code",
   "execution_count": 12,
   "id": "coupled-correlation",
   "metadata": {},
   "outputs": [
    {
     "name": "stdout",
     "output_type": "stream",
     "text": [
      "Epoch 1/10\n",
      "1875/1875 [==============================] - 1s 577us/step - loss: 1.0347 - accuracy: 0.6003\n",
      "Epoch 2/10\n",
      "1875/1875 [==============================] - 1s 542us/step - loss: 0.8170 - accuracy: 0.6881\n",
      "Epoch 3/10\n",
      "1875/1875 [==============================] - 1s 539us/step - loss: 0.7835 - accuracy: 0.7058\n",
      "Epoch 4/10\n",
      "1875/1875 [==============================] - 1s 537us/step - loss: 0.7608 - accuracy: 0.7155\n",
      "Epoch 5/10\n",
      "1875/1875 [==============================] - 1s 538us/step - loss: 0.7440 - accuracy: 0.7230\n",
      "Epoch 6/10\n",
      "1875/1875 [==============================] - 1s 726us/step - loss: 0.7333 - accuracy: 0.7273\n",
      "Epoch 7/10\n",
      "1875/1875 [==============================] - 1s 549us/step - loss: 0.7284 - accuracy: 0.7325\n",
      "Epoch 8/10\n",
      "1875/1875 [==============================] - 1s 553us/step - loss: 0.7195 - accuracy: 0.7340\n",
      "Epoch 9/10\n",
      "1875/1875 [==============================] - 1s 547us/step - loss: 0.7139 - accuracy: 0.7375\n",
      "Epoch 10/10\n",
      "1875/1875 [==============================] - 1s 540us/step - loss: 0.7095 - accuracy: 0.7399\n"
     ]
    },
    {
     "data": {
      "text/plain": [
       "<tensorflow.python.keras.callbacks.History at 0x1c945a30f08>"
      ]
     },
     "execution_count": 12,
     "metadata": {},
     "output_type": "execute_result"
    }
   ],
   "source": [
    "model.fit(train_images, train_labels, epochs=10)"
   ]
  },
  {
   "cell_type": "code",
   "execution_count": 13,
   "id": "intellectual-somerset",
   "metadata": {},
   "outputs": [
    {
     "name": "stdout",
     "output_type": "stream",
     "text": [
      "313/313 - 0s - loss: 0.5251 - accuracy: 0.8255\n",
      "\n",
      "Test accuracy: 0.8255000114440918\n"
     ]
    }
   ],
   "source": [
    "test_loss, test_acc = model.evaluate(test_images,  test_labels, verbose=2)\n",
    "\n",
    "print('\\nTest accuracy:', test_acc)"
   ]
  },
  {
   "cell_type": "markdown",
   "id": "aerial-inflation",
   "metadata": {},
   "source": [
    "## Model #3: Model #1 performed better:  1. adagrad"
   ]
  },
  {
   "cell_type": "code",
   "execution_count": 14,
   "id": "functional-awareness",
   "metadata": {},
   "outputs": [],
   "source": [
    "model = tf.keras.Sequential([\n",
    "    tf.keras.layers.Flatten(input_shape=(28, 28)),\n",
    "    tf.keras.layers.Dense(128, activation='relu'),\n",
    "    tf.keras.layers.Dense(10)\n",
    "])"
   ]
  },
  {
   "cell_type": "code",
   "execution_count": 15,
   "id": "therapeutic-station",
   "metadata": {},
   "outputs": [],
   "source": [
    "model.compile(optimizer='adagrad',\n",
    "              loss=tf.keras.losses.SparseCategoricalCrossentropy(from_logits=True),\n",
    "              metrics=['accuracy'])"
   ]
  },
  {
   "cell_type": "code",
   "execution_count": 16,
   "id": "underlying-royal",
   "metadata": {},
   "outputs": [
    {
     "name": "stdout",
     "output_type": "stream",
     "text": [
      "Epoch 1/10\n",
      "1875/1875 [==============================] - 1s 657us/step - loss: 1.0692 - accuracy: 0.6680\n",
      "Epoch 2/10\n",
      "1875/1875 [==============================] - 1s 648us/step - loss: 0.7241 - accuracy: 0.7650\n",
      "Epoch 3/10\n",
      "1875/1875 [==============================] - 1s 645us/step - loss: 0.6510 - accuracy: 0.7895\n",
      "Epoch 4/10\n",
      "1875/1875 [==============================] - 1s 641us/step - loss: 0.6115 - accuracy: 0.8026\n",
      "Epoch 5/10\n",
      "1875/1875 [==============================] - 1s 664us/step - loss: 0.5852 - accuracy: 0.8098\n",
      "Epoch 6/10\n",
      "1875/1875 [==============================] - 1s 645us/step - loss: 0.5662 - accuracy: 0.8159\n",
      "Epoch 7/10\n",
      "1875/1875 [==============================] - 1s 648us/step - loss: 0.5512 - accuracy: 0.8193\n",
      "Epoch 8/10\n",
      "1875/1875 [==============================] - 1s 650us/step - loss: 0.5392 - accuracy: 0.8227\n",
      "Epoch 9/10\n",
      "1875/1875 [==============================] - 1s 678us/step - loss: 0.5290 - accuracy: 0.8254\n",
      "Epoch 10/10\n",
      "1875/1875 [==============================] - 1s 650us/step - loss: 0.5204 - accuracy: 0.8282\n"
     ]
    },
    {
     "data": {
      "text/plain": [
       "<tensorflow.python.keras.callbacks.History at 0x1c945e68288>"
      ]
     },
     "execution_count": 16,
     "metadata": {},
     "output_type": "execute_result"
    }
   ],
   "source": [
    "model.fit(train_images, train_labels, epochs=10)"
   ]
  },
  {
   "cell_type": "code",
   "execution_count": 17,
   "id": "expensive-nation",
   "metadata": {},
   "outputs": [
    {
     "name": "stdout",
     "output_type": "stream",
     "text": [
      "313/313 - 0s - loss: 0.5417 - accuracy: 0.8179\n",
      "\n",
      "Test accuracy: 0.8179000020027161\n"
     ]
    }
   ],
   "source": [
    "test_loss, test_acc = model.evaluate(test_images,  test_labels, verbose=2)\n",
    "\n",
    "print('\\nTest accuracy:', test_acc)"
   ]
  },
  {
   "cell_type": "markdown",
   "id": "complex-exposure",
   "metadata": {},
   "source": [
    "## Model #4: Model #1 performed better:  2. sgd"
   ]
  },
  {
   "cell_type": "code",
   "execution_count": 18,
   "id": "cognitive-brother",
   "metadata": {},
   "outputs": [],
   "source": [
    "model = tf.keras.Sequential([\n",
    "    tf.keras.layers.Flatten(input_shape=(28, 28)),\n",
    "    tf.keras.layers.Dense(128, activation='relu'),\n",
    "    tf.keras.layers.Dense(10)\n",
    "])"
   ]
  },
  {
   "cell_type": "code",
   "execution_count": 19,
   "id": "suspected-concept",
   "metadata": {},
   "outputs": [],
   "source": [
    "model.compile(optimizer='sgd',\n",
    "              loss=tf.keras.losses.SparseCategoricalCrossentropy(from_logits=True),\n",
    "              metrics=['accuracy'])"
   ]
  },
  {
   "cell_type": "code",
   "execution_count": 20,
   "id": "natural-envelope",
   "metadata": {},
   "outputs": [
    {
     "name": "stdout",
     "output_type": "stream",
     "text": [
      "Epoch 1/10\n",
      "1875/1875 [==============================] - 1s 622us/step - loss: 0.7440 - accuracy: 0.7596\n",
      "Epoch 2/10\n",
      "1875/1875 [==============================] - 1s 610us/step - loss: 0.5165 - accuracy: 0.8235\n",
      "Epoch 3/10\n",
      "1875/1875 [==============================] - 1s 611us/step - loss: 0.4737 - accuracy: 0.8371\n",
      "Epoch 4/10\n",
      "1875/1875 [==============================] - 1s 611us/step - loss: 0.4489 - accuracy: 0.8442\n",
      "Epoch 5/10\n",
      "1875/1875 [==============================] - 1s 605us/step - loss: 0.4321 - accuracy: 0.8515\n",
      "Epoch 6/10\n",
      "1875/1875 [==============================] - 1s 607us/step - loss: 0.4183 - accuracy: 0.8554\n",
      "Epoch 7/10\n",
      "1875/1875 [==============================] - 1s 613us/step - loss: 0.4062 - accuracy: 0.8592\n",
      "Epoch 8/10\n",
      "1875/1875 [==============================] - 1s 615us/step - loss: 0.3960 - accuracy: 0.8618\n",
      "Epoch 9/10\n",
      "1875/1875 [==============================] - 1s 617us/step - loss: 0.3873 - accuracy: 0.8651\n",
      "Epoch 10/10\n",
      "1875/1875 [==============================] - 1s 616us/step - loss: 0.3793 - accuracy: 0.8677\n"
     ]
    },
    {
     "data": {
      "text/plain": [
       "<tensorflow.python.keras.callbacks.History at 0x1c946215108>"
      ]
     },
     "execution_count": 20,
     "metadata": {},
     "output_type": "execute_result"
    }
   ],
   "source": [
    "model.fit(train_images, train_labels, epochs=10)"
   ]
  },
  {
   "cell_type": "code",
   "execution_count": 21,
   "id": "christian-confidence",
   "metadata": {},
   "outputs": [
    {
     "name": "stdout",
     "output_type": "stream",
     "text": [
      "313/313 - 0s - loss: 0.4127 - accuracy: 0.8545\n",
      "\n",
      "Test accuracy: 0.8544999957084656\n"
     ]
    }
   ],
   "source": [
    "test_loss, test_acc = model.evaluate(test_images,  test_labels, verbose=2)\n",
    "\n",
    "print('\\nTest accuracy:', test_acc)"
   ]
  },
  {
   "cell_type": "markdown",
   "id": "agricultural-riverside",
   "metadata": {},
   "source": [
    "### Results\n",
    "\n",
    "<p>Model #1<br>\n",
    "options: relu, adam<br> \n",
    "train time: 1 second<br> \n",
    "train acc: 0.9096<br>\n",
    "test acc 0.8837<br>\n",
    "time: 1s<br>\n",
    "dense128, dense10 - same as original<br>\n",
    "\n",
    "Model #2<br>\n",
    "options: relu, adam<br> \n",
    "train time: 1 second<br> \n",
    "train acc: 0.7399<br>\n",
    "test acc 0.8255<br>\n",
    "time: 1s<br>\n",
    "dense10, dropout(.2), dense10<br>\n",
    "\n",
    "Model #3<br>\n",
    "options: relu, adagrad<br> \n",
    "train time: 1 second<br> \n",
    "train acc: 0.8282<br>\n",
    "test acc 0.8179<br>\n",
    "time: 1s<br>\n",
    "dense128, dense10 - same as Model #1<br>\n",
    "\n",
    "Model #4<br>\n",
    "options: relu, sdg<br> \n",
    "train time: 1 second<br> \n",
    "train acc: 0.8677<br>\n",
    "test acc 0.8545<br>\n",
    "time: 1s<br>\n",
    "dense128, dense10 - same as Model #1<br>"
   ]
  }
 ],
 "metadata": {
  "kernelspec": {
   "display_name": "Python 3",
   "language": "python",
   "name": "python3"
  },
  "language_info": {
   "codemirror_mode": {
    "name": "ipython",
    "version": 3
   },
   "file_extension": ".py",
   "mimetype": "text/x-python",
   "name": "python",
   "nbconvert_exporter": "python",
   "pygments_lexer": "ipython3",
   "version": "3.7.9"
  }
 },
 "nbformat": 4,
 "nbformat_minor": 5
}
