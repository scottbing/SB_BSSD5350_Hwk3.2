{
 "cells": [
  {
   "cell_type": "code",
   "execution_count": 1,
   "id": "available-shark",
   "metadata": {},
   "outputs": [
    {
     "name": "stdout",
     "output_type": "stream",
     "text": [
      "2.3.0\n"
     ]
    }
   ],
   "source": [
    "import tensorflow as tf\n",
    "\n",
    "# Helper libraries\n",
    "import numpy as np\n",
    "import matplotlib.pyplot as plt\n",
    "\n",
    "print(tf.__version__)"
   ]
  },
  {
   "cell_type": "code",
   "execution_count": 2,
   "id": "leading-newark",
   "metadata": {},
   "outputs": [],
   "source": [
    "fashion_mnist = tf.keras.datasets.fashion_mnist\n",
    "\n",
    "(train_images, train_labels), (test_images, test_labels) = fashion_mnist.load_data()"
   ]
  },
  {
   "cell_type": "code",
   "execution_count": 3,
   "id": "stone-evans",
   "metadata": {},
   "outputs": [],
   "source": [
    "train_images = train_images / 255.0\n",
    "\n",
    "test_images = test_images / 255.0"
   ]
  },
  {
   "cell_type": "markdown",
   "id": "ethical-optimum",
   "metadata": {},
   "source": [
    "## Model #1:  Original Model -  1. adam, dense128, dense10"
   ]
  },
  {
   "cell_type": "code",
   "execution_count": 4,
   "id": "identified-colombia",
   "metadata": {},
   "outputs": [],
   "source": [
    "model = tf.keras.Sequential([\n",
    "    tf.keras.layers.Flatten(input_shape=(28, 28)),\n",
    "    tf.keras.layers.Dense(128, activation='relu'),\n",
    "    tf.keras.layers.Dense(10)\n",
    "])"
   ]
  },
  {
   "cell_type": "code",
   "execution_count": 5,
   "id": "understanding-wellington",
   "metadata": {},
   "outputs": [],
   "source": [
    "model.compile(optimizer='adam',\n",
    "              loss=tf.keras.losses.SparseCategoricalCrossentropy(from_logits=True),\n",
    "              metrics=['accuracy'])"
   ]
  },
  {
   "cell_type": "code",
   "execution_count": 6,
   "id": "approximate-advisory",
   "metadata": {},
   "outputs": [
    {
     "name": "stdout",
     "output_type": "stream",
     "text": [
      "Epoch 1/10\n",
      "1875/1875 [==============================] - 1s 603us/step - loss: 0.4932 - accuracy: 0.8274\n",
      "Epoch 2/10\n",
      "1875/1875 [==============================] - 1s 675us/step - loss: 0.3767 - accuracy: 0.8646\n",
      "Epoch 3/10\n",
      "1875/1875 [==============================] - 1s 689us/step - loss: 0.3387 - accuracy: 0.8784\n",
      "Epoch 4/10\n",
      "1875/1875 [==============================] - 1s 719us/step - loss: 0.3136 - accuracy: 0.8849\n",
      "Epoch 5/10\n",
      "1875/1875 [==============================] - 1s 652us/step - loss: 0.2968 - accuracy: 0.8911\n",
      "Epoch 6/10\n",
      "1875/1875 [==============================] - 1s 650us/step - loss: 0.2794 - accuracy: 0.8965\n",
      "Epoch 7/10\n",
      "1875/1875 [==============================] - 1s 655us/step - loss: 0.2685 - accuracy: 0.9014\n",
      "Epoch 8/10\n",
      "1875/1875 [==============================] - 1s 637us/step - loss: 0.2585 - accuracy: 0.9043\n",
      "Epoch 9/10\n",
      "1875/1875 [==============================] - 1s 648us/step - loss: 0.2479 - accuracy: 0.9084\n",
      "Epoch 10/10\n",
      "1875/1875 [==============================] - 1s 674us/step - loss: 0.2396 - accuracy: 0.9115\n"
     ]
    },
    {
     "data": {
      "text/plain": [
       "<tensorflow.python.keras.callbacks.History at 0x2540949e408>"
      ]
     },
     "execution_count": 6,
     "metadata": {},
     "output_type": "execute_result"
    }
   ],
   "source": [
    "model.fit(train_images, train_labels, epochs=10)"
   ]
  },
  {
   "cell_type": "code",
   "execution_count": 7,
   "id": "deadly-minority",
   "metadata": {},
   "outputs": [
    {
     "name": "stdout",
     "output_type": "stream",
     "text": [
      "313/313 - 0s - loss: 0.3443 - accuracy: 0.8773\n",
      "\n",
      "Test accuracy: 0.8773000240325928\n"
     ]
    }
   ],
   "source": [
    "test_loss, test_acc = model.evaluate(test_images,  test_labels, verbose=2)\n",
    "\n",
    "print('\\nTest accuracy:', test_acc)"
   ]
  },
  {
   "cell_type": "markdown",
   "id": "tough-making",
   "metadata": {},
   "source": [
    "## Model #2 -  2. adam, dense10, dropout(.2), dense10"
   ]
  },
  {
   "cell_type": "code",
   "execution_count": 8,
   "id": "configured-accused",
   "metadata": {},
   "outputs": [],
   "source": [
    "model = tf.keras.Sequential([\n",
    "    tf.keras.layers.Flatten(input_shape=(28, 28)),\n",
    "    tf.keras.layers.Dense(10, activation='relu'),\n",
    "    tf.keras.layers.Dropout(0.2),\n",
    "    tf.keras.layers.Dense(10)\n",
    "])"
   ]
  },
  {
   "cell_type": "code",
   "execution_count": 9,
   "id": "distinct-sleep",
   "metadata": {},
   "outputs": [],
   "source": [
    "model.compile(optimizer='adam',\n",
    "              loss=tf.keras.losses.SparseCategoricalCrossentropy(from_logits=True),\n",
    "              metrics=['accuracy'])"
   ]
  },
  {
   "cell_type": "code",
   "execution_count": 10,
   "id": "impressed-hunger",
   "metadata": {},
   "outputs": [
    {
     "name": "stdout",
     "output_type": "stream",
     "text": [
      "Epoch 1/10\n",
      "1875/1875 [==============================] - 1s 537us/step - loss: 0.9165 - accuracy: 0.6755\n",
      "Epoch 2/10\n",
      "1875/1875 [==============================] - 1s 528us/step - loss: 0.6876 - accuracy: 0.7508\n",
      "Epoch 3/10\n",
      "1875/1875 [==============================] - 1s 538us/step - loss: 0.6488 - accuracy: 0.7631\n",
      "Epoch 4/10\n",
      "1875/1875 [==============================] - 1s 551us/step - loss: 0.6205 - accuracy: 0.7727\n",
      "Epoch 5/10\n",
      "1875/1875 [==============================] - 1s 531us/step - loss: 0.6096 - accuracy: 0.7756\n",
      "Epoch 6/10\n",
      "1875/1875 [==============================] - 1s 538us/step - loss: 0.6018 - accuracy: 0.7778\n",
      "Epoch 7/10\n",
      "1875/1875 [==============================] - 1s 535us/step - loss: 0.5889 - accuracy: 0.7841\n",
      "Epoch 8/10\n",
      "1875/1875 [==============================] - 1s 537us/step - loss: 0.5852 - accuracy: 0.7850\n",
      "Epoch 9/10\n",
      "1875/1875 [==============================] - 1s 530us/step - loss: 0.5787 - accuracy: 0.7882\n",
      "Epoch 10/10\n",
      "1875/1875 [==============================] - 1s 534us/step - loss: 0.5729 - accuracy: 0.7897\n"
     ]
    },
    {
     "data": {
      "text/plain": [
       "<tensorflow.python.keras.callbacks.History at 0x2540b80ca88>"
      ]
     },
     "execution_count": 10,
     "metadata": {},
     "output_type": "execute_result"
    }
   ],
   "source": [
    "model.fit(train_images, train_labels, epochs=10)"
   ]
  },
  {
   "cell_type": "code",
   "execution_count": 11,
   "id": "fitted-worry",
   "metadata": {},
   "outputs": [
    {
     "name": "stdout",
     "output_type": "stream",
     "text": [
      "313/313 - 0s - loss: 0.4604 - accuracy: 0.8357\n",
      "\n",
      "Test accuracy: 0.8356999754905701\n"
     ]
    }
   ],
   "source": [
    "test_loss, test_acc = model.evaluate(test_images,  test_labels, verbose=2)\n",
    "\n",
    "print('\\nTest accuracy:', test_acc)"
   ]
  },
  {
   "cell_type": "markdown",
   "id": "built-consumer",
   "metadata": {},
   "source": [
    "## Model #3: Model #1 performed better:  1. adagrad"
   ]
  },
  {
   "cell_type": "code",
   "execution_count": 12,
   "id": "solved-montana",
   "metadata": {},
   "outputs": [],
   "source": [
    "model = tf.keras.Sequential([\n",
    "    tf.keras.layers.Flatten(input_shape=(28, 28)),\n",
    "    tf.keras.layers.Dense(128, activation='relu'),\n",
    "    tf.keras.layers.Dense(10)\n",
    "])"
   ]
  },
  {
   "cell_type": "code",
   "execution_count": 13,
   "id": "moved-burst",
   "metadata": {},
   "outputs": [],
   "source": [
    "model.compile(optimizer='adagrad',\n",
    "              loss=tf.keras.losses.SparseCategoricalCrossentropy(from_logits=True),\n",
    "              metrics=['accuracy'])"
   ]
  },
  {
   "cell_type": "code",
   "execution_count": 14,
   "id": "hidden-caution",
   "metadata": {},
   "outputs": [
    {
     "name": "stdout",
     "output_type": "stream",
     "text": [
      "Epoch 1/10\n",
      "1875/1875 [==============================] - 1s 670us/step - loss: 1.0942 - accuracy: 0.6683\n",
      "Epoch 2/10\n",
      "1875/1875 [==============================] - 1s 634us/step - loss: 0.7261 - accuracy: 0.7679\n",
      "Epoch 3/10\n",
      "1875/1875 [==============================] - 1s 662us/step - loss: 0.6491 - accuracy: 0.7916\n",
      "Epoch 4/10\n",
      "1875/1875 [==============================] - 1s 631us/step - loss: 0.6084 - accuracy: 0.8032\n",
      "Epoch 5/10\n",
      "1875/1875 [==============================] - 1s 689us/step - loss: 0.5818 - accuracy: 0.8122\n",
      "Epoch 6/10\n",
      "1875/1875 [==============================] - 1s 637us/step - loss: 0.5626 - accuracy: 0.8166\n",
      "Epoch 7/10\n",
      "1875/1875 [==============================] - 1s 636us/step - loss: 0.5476 - accuracy: 0.8211\n",
      "Epoch 8/10\n",
      "1875/1875 [==============================] - 1s 642us/step - loss: 0.5357 - accuracy: 0.8246\n",
      "Epoch 9/10\n",
      "1875/1875 [==============================] - 1s 674us/step - loss: 0.5259 - accuracy: 0.8268\n",
      "Epoch 10/10\n",
      "1875/1875 [==============================] - 1s 637us/step - loss: 0.5173 - accuracy: 0.8291\n"
     ]
    },
    {
     "data": {
      "text/plain": [
       "<tensorflow.python.keras.callbacks.History at 0x2540bc3b788>"
      ]
     },
     "execution_count": 14,
     "metadata": {},
     "output_type": "execute_result"
    }
   ],
   "source": [
    "model.fit(train_images, train_labels, epochs=10)"
   ]
  },
  {
   "cell_type": "code",
   "execution_count": 15,
   "id": "pressed-marathon",
   "metadata": {},
   "outputs": [
    {
     "name": "stdout",
     "output_type": "stream",
     "text": [
      "313/313 - 0s - loss: 0.5382 - accuracy: 0.8208\n",
      "\n",
      "Test accuracy: 0.8208000063896179\n"
     ]
    }
   ],
   "source": [
    "test_loss, test_acc = model.evaluate(test_images,  test_labels, verbose=2)\n",
    "\n",
    "print('\\nTest accuracy:', test_acc)"
   ]
  },
  {
   "cell_type": "markdown",
   "id": "stuffed-dublin",
   "metadata": {},
   "source": [
    "## Model #4: Model #1 performed better:  2. sgd"
   ]
  },
  {
   "cell_type": "code",
   "execution_count": 16,
   "id": "through-spray",
   "metadata": {},
   "outputs": [],
   "source": [
    "model = tf.keras.Sequential([\n",
    "    tf.keras.layers.Flatten(input_shape=(28, 28)),\n",
    "    tf.keras.layers.Dense(128, activation='relu'),\n",
    "    tf.keras.layers.Dense(10)\n",
    "])"
   ]
  },
  {
   "cell_type": "code",
   "execution_count": 17,
   "id": "working-upset",
   "metadata": {},
   "outputs": [],
   "source": [
    "model.compile(optimizer='sgd',\n",
    "              loss=tf.keras.losses.SparseCategoricalCrossentropy(from_logits=True),\n",
    "              metrics=['accuracy'])"
   ]
  },
  {
   "cell_type": "code",
   "execution_count": 18,
   "id": "caroline-diabetes",
   "metadata": {},
   "outputs": [
    {
     "name": "stdout",
     "output_type": "stream",
     "text": [
      "Epoch 1/10\n",
      "1875/1875 [==============================] - 1s 616us/step - loss: 0.7348 - accuracy: 0.7614\n",
      "Epoch 2/10\n",
      "1875/1875 [==============================] - 1s 599us/step - loss: 0.5128 - accuracy: 0.8256\n",
      "Epoch 3/10\n",
      "1875/1875 [==============================] - 1s 601us/step - loss: 0.4679 - accuracy: 0.8398\n",
      "Epoch 4/10\n",
      "1875/1875 [==============================] - 1s 603us/step - loss: 0.4424 - accuracy: 0.8462\n",
      "Epoch 5/10\n",
      "1875/1875 [==============================] - 1s 603us/step - loss: 0.4249 - accuracy: 0.8519\n",
      "Epoch 6/10\n",
      "1875/1875 [==============================] - 1s 607us/step - loss: 0.4108 - accuracy: 0.8573\n",
      "Epoch 7/10\n",
      "1875/1875 [==============================] - 1s 598us/step - loss: 0.3988 - accuracy: 0.8621\n",
      "Epoch 8/10\n",
      "1875/1875 [==============================] - 1s 604us/step - loss: 0.3888 - accuracy: 0.8651\n",
      "Epoch 9/10\n",
      "1875/1875 [==============================] - 1s 602us/step - loss: 0.3795 - accuracy: 0.8670\n",
      "Epoch 10/10\n",
      "1875/1875 [==============================] - 1s 632us/step - loss: 0.3729 - accuracy: 0.8705\n"
     ]
    },
    {
     "data": {
      "text/plain": [
       "<tensorflow.python.keras.callbacks.History at 0x2540bfeb708>"
      ]
     },
     "execution_count": 18,
     "metadata": {},
     "output_type": "execute_result"
    }
   ],
   "source": [
    "model.fit(train_images, train_labels, epochs=10)"
   ]
  },
  {
   "cell_type": "code",
   "execution_count": 19,
   "id": "regional-turkish",
   "metadata": {},
   "outputs": [
    {
     "name": "stdout",
     "output_type": "stream",
     "text": [
      "313/313 - 0s - loss: 0.4076 - accuracy: 0.8551\n",
      "\n",
      "Test accuracy: 0.8550999760627747\n"
     ]
    }
   ],
   "source": [
    "test_loss, test_acc = model.evaluate(test_images,  test_labels, verbose=2)\n",
    "\n",
    "print('\\nTest accuracy:', test_acc)"
   ]
  },
  {
   "cell_type": "markdown",
   "id": "amended-breathing",
   "metadata": {},
   "source": [
    "### Results\n",
    "\n",
    "<p>Model #1<br>\n",
    "options: relu, adam<br> \n",
    "train time: 1 second<br> \n",
    "train acc: 0.91151<br>\n",
    "test acc 0.8773<br>\n",
    "dense128, dense10 - same as original<br>\n",
    "\n",
    "Model #2<br>\n",
    "options: relu, adam<br> \n",
    "train time: 1 second<br> \n",
    "train acc: 0.7897<br>\n",
    "test acc 0.8357<br>\n",
    "dense10, dropout(.2), dense10<br>\n",
    "\n",
    "Model #3<br>\n",
    "options: relu, adagrad<br> \n",
    "train time: 1 second<br> \n",
    "train acc: 0.8291<br>\n",
    "test acc 0.8208<br>\n",
    "\n",
    "\n",
    "Model #4<br>\n",
    "options: relu, sdg<br> \n",
    "train time: 1 second<br> \n",
    "train acc: 0.8705<br>\n",
    "test acc 0.8551<br>"
   ]
  }
 ],
 "metadata": {
  "kernelspec": {
   "display_name": "Python 3",
   "language": "python",
   "name": "python3"
  },
  "language_info": {
   "codemirror_mode": {
    "name": "ipython",
    "version": 3
   },
   "file_extension": ".py",
   "mimetype": "text/x-python",
   "name": "python",
   "nbconvert_exporter": "python",
   "pygments_lexer": "ipython3",
   "version": "3.7.9"
  }
 },
 "nbformat": 4,
 "nbformat_minor": 5
}
